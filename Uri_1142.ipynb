{
  "nbformat": 4,
  "nbformat_minor": 0,
  "metadata": {
    "colab": {
      "provenance": [],
      "authorship_tag": "ABX9TyMTHAbnTaTQwEpCQp5xNoq5",
      "include_colab_link": true
    },
    "kernelspec": {
      "name": "python3",
      "display_name": "Python 3"
    },
    "language_info": {
      "name": "python"
    }
  },
  "cells": [
    {
      "cell_type": "markdown",
      "metadata": {
        "id": "view-in-github",
        "colab_type": "text"
      },
      "source": [
        "<a href=\"https://colab.research.google.com/github/Sazzad-Hossain-Sobuj/uri_problem_solving_python/blob/master/Uri_1142.ipynb\" target=\"_parent\"><img src=\"https://colab.research.google.com/assets/colab-badge.svg\" alt=\"Open In Colab\"/></a>"
      ]
    },
    {
      "cell_type": "code",
      "source": [
        "n = int(input())\n",
        "c = 1\n",
        "for i in range(n):\n",
        "    print(f\"{c} {c+1} {c+2} PUM\")\n",
        "    c += 4"
      ],
      "metadata": {
        "colab": {
          "base_uri": "https://localhost:8080/"
        },
        "id": "bqQyzOdWY3SY",
        "outputId": "50eb8be2-168b-4be3-f98f-f5a922414192"
      },
      "execution_count": 3,
      "outputs": [
        {
          "output_type": "stream",
          "name": "stdout",
          "text": [
            "7\n",
            "1 2 3 PUM\n",
            "5 6 7 PUM\n",
            "9 10 11 PUM\n",
            "13 14 15 PUM\n",
            "17 18 19 PUM\n",
            "21 22 23 PUM\n",
            "25 26 27 PUM\n"
          ]
        }
      ]
    }
  ]
}